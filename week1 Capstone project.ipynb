{
 "cells": [
  {
   "cell_type": "markdown",
   "metadata": {},
   "source": [
    "## 1. Introduction\n",
    "### As the saying goes, New York city is the greatest city in the world. In addition to being financial and cultural center of the US, it is home to head quarters of international organizations such as United nations. Perhaps what makes New York City so special  is that its incredibly  culturally and ethnically diverse population.  Almost 200 languages spoken in the city().  This gives the city a “Cultural capital of the word” nickname.  It illustrates this melting pot of cultures through activities, museums, stores and restaurants. One can find variety of restaurants which serve international cuisines from India to Mexico, from China to Ethiopia all in not-so distant places.\n",
    "### There are handful Ethiopian restaurants in New York City. Traditional Ethiopian cuisine is as distinctive as the country it comes from. A big part of the national identity, food runs deep through Ethiopia‘s ancient culture. Often intimate, always hands-on, it has a strong communal element that creates a dinnertime bond unlike anywhere else in the world. From hearty, tongue-tingling stews and all-purpose flatbread, to powerful home-brewed honey wine, there’s nothing quite like eating out in Ethiopia.()\n",
    "### In this project I will try to explore  which neighborhoods and boroughs have how many Ethiopian Restaurants, where the highest rated restaurants are located. As a result I will explore which borough will be best to open Ethiopian restaurant.  Entrepreneurs  who want to open restaurant and curious food lovers who enjoy eating different international cuisines will be interetsted in this project.\n",
    "\n",
    "## 2. Business Problem \n",
    "### i. How many Ethiopian Restuarants are in New York? which borough are they loacted in?\n",
    "### ii. Whcih restuarants are highest rated?\n",
    "### ii. Which boroughs will be best to open a restaurant?\n",
    "\n",
    "\n",
    "\n",
    "## 3. Data \n",
    "\n",
    "###  New York City data containing the neighborhoods and boroughs, latitudes, and longitudes was obtained obtained from the data source: https://cocl.us/new_york_dataset\n",
    " \n",
    "\n",
    "\n"
   ]
  },
  {
   "cell_type": "markdown",
   "metadata": {},
   "source": []
  }
 ],
 "metadata": {
  "kernelspec": {
   "display_name": "Python 3",
   "language": "python",
   "name": "python3"
  },
  "language_info": {
   "codemirror_mode": {
    "name": "ipython",
    "version": 3
   },
   "file_extension": ".py",
   "mimetype": "text/x-python",
   "name": "python",
   "nbconvert_exporter": "python",
   "pygments_lexer": "ipython3",
   "version": "3.7.4"
  }
 },
 "nbformat": 4,
 "nbformat_minor": 2
}
